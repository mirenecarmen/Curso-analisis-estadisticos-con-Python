{
 "cells": [
  {
   "cell_type": "markdown",
   "id": "01bcc8db",
   "metadata": {},
   "source": [
    "#### Para reasignar valores a variables, tan solo se tiene que volver a nombrar a la variable y asignarle otro valor diferente"
   ]
  },
  {
   "cell_type": "code",
   "execution_count": 3,
   "id": "b59c63b8",
   "metadata": {},
   "outputs": [
    {
     "name": "stdout",
     "output_type": "stream",
     "text": [
      "10\n"
     ]
    }
   ],
   "source": [
    "variable=10\n",
    "print(variable)"
   ]
  },
  {
   "cell_type": "markdown",
   "id": "7be5692b",
   "metadata": {},
   "source": [
    "#### 4.1 asignacion multiple"
   ]
  },
  {
   "cell_type": "markdown",
   "id": "d0bc9c13",
   "metadata": {},
   "source": [
    "Otra forma de declarar variables que nos ofrece Python, es la de poder asignar en una sola\n",
    "instrucción, múltiples variables:"
   ]
  },
  {
   "cell_type": "code",
   "execution_count": 4,
   "id": "ddc154db",
   "metadata": {},
   "outputs": [
    {
     "data": {
      "text/plain": [
       "str"
      ]
     },
     "execution_count": 4,
     "metadata": {},
     "output_type": "execute_result"
    }
   ],
   "source": [
    "a,b,c='mensaje',38,True\n",
    "type(a)"
   ]
  },
  {
   "cell_type": "code",
   "execution_count": 5,
   "id": "c564865d",
   "metadata": {},
   "outputs": [
    {
     "data": {
      "text/plain": [
       "int"
      ]
     },
     "execution_count": 5,
     "metadata": {},
     "output_type": "execute_result"
    }
   ],
   "source": [
    "type(b)"
   ]
  },
  {
   "cell_type": "code",
   "execution_count": 6,
   "id": "7d03209e",
   "metadata": {},
   "outputs": [
    {
     "data": {
      "text/plain": [
       "bool"
      ]
     },
     "execution_count": 6,
     "metadata": {},
     "output_type": "execute_result"
    }
   ],
   "source": [
    "type(c)"
   ]
  },
  {
   "cell_type": "markdown",
   "id": "2be848e8",
   "metadata": {},
   "source": [
    "### 4.2 ingreso por teclado en python FUNCION INPUT()"
   ]
  },
  {
   "cell_type": "markdown",
   "id": "f426a2d6",
   "metadata": {},
   "source": [
    "Para pedir o ingresar datos por teclado, se utiliza la función input(‘texto’).\n",
    "Ejemplo: Pedir un número entero por teclado"
   ]
  },
  {
   "cell_type": "code",
   "execution_count": 7,
   "id": "3f9205a0",
   "metadata": {},
   "outputs": [
    {
     "name": "stdout",
     "output_type": "stream",
     "text": [
      "pregunta:4\n"
     ]
    }
   ],
   "source": [
    "a=int(input ('pregunta:'))"
   ]
  },
  {
   "cell_type": "markdown",
   "id": "4053d3a4",
   "metadata": {},
   "source": [
    "### 4.3 que es la indentacion?"
   ]
  },
  {
   "cell_type": "markdown",
   "id": "8e6d3252",
   "metadata": {},
   "source": [
    "#### En un lenguaje informático, se refiere al espacio en blanco al principio de una línea de código. En Python, la indentación se utiliza para definir bloques de código y para indicar la estructura del programa."
   ]
  },
  {
   "cell_type": "markdown",
   "id": "97f677b7",
   "metadata": {},
   "source": [
    "### 5.1 Estructuras de control"
   ]
  },
  {
   "cell_type": "raw",
   "id": "fb7d809e",
   "metadata": {},
   "source": [
    "una estructura de control permite modificar el flujo de la ejecucion de un conjunto de instrucciones.Se pueden distinguir tres tipos basicos de control de flujo"
   ]
  },
  {
   "cell_type": "markdown",
   "id": "92d04f31",
   "metadata": {},
   "source": [
    "-secuencial\n",
    "-seleccion o condicional\n",
    "-iteracion o repeticion"
   ]
  },
  {
   "cell_type": "markdown",
   "id": "a9313fe6",
   "metadata": {},
   "source": [
    "### Plasmar en su cuaderno los ejercicios de ejemplos de los puntos:\n",
    " "
   ]
  },
  {
   "cell_type": "markdown",
   "id": "83d6924b",
   "metadata": {},
   "source": [
    "Estructuras de control condicional\n",
    "Las estructuras de control condicionales, son aquellas que nos permiten evaluar si una o más\n",
    "condiciones se cumplen, para decir qué acción vamos a ejecutar. La selección tiene una condición\n",
    "que puede ser falsa o verdadera\n",
    "----Para realizar una validación, se usan los operadores de comparación y operadores lógicos.\n"
   ]
  },
  {
   "cell_type": "code",
   "execution_count": null,
   "id": "02b6a159",
   "metadata": {},
   "outputs": [],
   "source": [
    "Símbolo Significado        Ejemplo         Resultado\n",
    "\n",
    "==      igual que          2==3            False\n",
    "!=      distinto que       a != b          True\n",
    "<       menor que          2<3             True\n",
    ">       mayor que          2>3             False\n",
    "<=      menor o igual que  2<=2            True\n",
    ">=      mayor o igual que  3>=5            False\n",
    "and     1==2 and 2<3       False and True  False\n",
    "or      1==2 or 2<3        False or True   True"
   ]
  },
  {
   "cell_type": "code",
   "execution_count": null,
   "id": "72192abc",
   "metadata": {},
   "outputs": [],
   "source": []
  },
  {
   "cell_type": "markdown",
   "id": "a1273ae0",
   "metadata": {},
   "source": [
    "#### 5.1.1 Estructura IF-ELIF-ELSE \n",
    "Esta estructura se utiliza para tomar decisiones, basándose en la evaluación de condiciones y/o comparaciones. Entonces, evalúa secuencialmente hasta encontrar una condición que se cumpla,\n",
    "si ninguna lo hace, entonces se ejecuta la instrucción colocada en default else. Su sintaxis general\n",
    "es:"
   ]
  },
  {
   "cell_type": "markdown",
   "id": "b13efa4a",
   "metadata": {},
   "source": [
    "En el siguiente fragmento de código se muestra un ejemplo que verifica si el valor de a es mayor,menor o igual al valor de b.\n"
   ]
  },
  {
   "cell_type": "code",
   "execution_count": 18,
   "id": "80afcff2",
   "metadata": {},
   "outputs": [
    {
     "name": "stdout",
     "output_type": "stream",
     "text": [
      "a es menor que b\n"
     ]
    }
   ],
   "source": [
    "a=10\n",
    "b=30\n",
    "if a > b:\n",
    "    print(\"a es mayor que b\")\n",
    "elif a < b:\n",
    "    print (\"a es menor que b\")\n",
    "else:\n",
    "        print(\"a es igual a b\")"
   ]
  },
  {
   "cell_type": "markdown",
   "id": "b42e2333",
   "metadata": {},
   "source": [
    "Generalmente, en la mayoría de los casos, se decide entre dos posibilidades que son excluyentes, en ese caso basta con una estructura reducida ## if-else.\n",
    "Por ejemplo, el siguiente código determina si un estudiante aprobó o no. La calificación mínima\n",
    "aprobatoria es de 70 de 100.\n"
   ]
  },
  {
   "cell_type": "code",
   "execution_count": 19,
   "id": "23ab15b1",
   "metadata": {},
   "outputs": [
    {
     "name": "stdout",
     "output_type": "stream",
     "text": [
      "aprobado\n"
     ]
    }
   ],
   "source": [
    "calificacion=100\n",
    "if (calificacion>=70):\n",
    "    print(\"aprobado\")\n",
    "else:\n",
    "    print(\"desaprobado\")"
   ]
  },
  {
   "cell_type": "markdown",
   "id": "f8c8116c",
   "metadata": {},
   "source": [
    "Imaginemos un caso, la forma de pago de un producto. Si gasto hasta $100, pago con dinero en efectivo. Si no, si gasto más de $100 pero menos de $300, pago con tarjeta de débito. Si no, pagocon tarjeta de crédito."
   ]
  },
  {
   "cell_type": "code",
   "execution_count": 25,
   "id": "23d4074f",
   "metadata": {},
   "outputs": [
    {
     "name": "stdout",
     "output_type": "stream",
     "text": [
      "pago con dinero en efectivo\n"
     ]
    }
   ],
   "source": [
    "compra=70\n",
    "if (compra<=100):\n",
    "    print(\"pago con dinero en efectivo\")\n",
    "elif 100 < compra < 300:\n",
    "    print (\"pago con tarjeta de debito\")\n",
    "else:\n",
    "   print (\"pago con tarjeta\")"
   ]
  },
  {
   "cell_type": "markdown",
   "id": "d938e317",
   "metadata": {},
   "source": [
    "Si aumentamos, alguna complejidad, podemos decir que si la compra es mayor a $100, se obtendrá un descuento del 10%"
   ]
  },
  {
   "cell_type": "code",
   "execution_count": 28,
   "id": "473555bd",
   "metadata": {},
   "outputs": [
    {
     "name": "stdout",
     "output_type": "stream",
     "text": [
      "117.9\n"
     ]
    }
   ],
   "source": [
    "totalcompra=131\n",
    "importeapagar = totalcompra\n",
    "if totalcompra > 100:\n",
    "    tasadescuento = 10\n",
    "    importedescuento = totalcompra*tasadescuento/100\n",
    "    importeapagar = (totalcompra - importedescuento)\n",
    "print(importeapagar)"
   ]
  },
  {
   "cell_type": "markdown",
   "id": "34c3db39",
   "metadata": {},
   "source": [
    "# 5.2 estructuras de control de repeticion"
   ]
  },
  {
   "cell_type": "markdown",
   "id": "d838fc6d",
   "metadata": {},
   "source": [
    "Las estructuras de control de repetición (también llamadas iterativas), nos permiten ejecutar un mismo código, de manera repetida, mientras se cumpla una condición.\n",
    "En Python se dispone de dos estructuras cíclicas:\n",
    "● El bucle while\n",
    "● El bucle for"
   ]
  },
  {
   "cell_type": "markdown",
   "id": "05b621fd",
   "metadata": {},
   "source": [
    "#### 5.2.1 Bucle While "
   ]
  },
  {
   "cell_type": "markdown",
   "id": "5e62b1c8",
   "metadata": {},
   "source": [
    "Este bucle, se encarga de ejecutar una misma acción \"mientras que\" una determinada condición\n"
   ]
  },
  {
   "cell_type": "markdown",
   "id": "21f2f055",
   "metadata": {},
   "source": [
    "En este ejemplo podrás notar que en cada iteración, se incrementa el valor de la variable que condiciona el bucle (número). Esta instrucción es importante, porque si no lo hiciéramos, esta variable siempre sería igual a cero (0) y el bucle se ejecutará de forma infinita, y siempre se estaría cumpliendo la condición (número <=10)"
   ]
  },
  {
   "cell_type": "code",
   "execution_count": 32,
   "id": "edbb6105",
   "metadata": {},
   "outputs": [
    {
     "ename": "IndentationError",
     "evalue": "unexpected indent (224018517.py, line 5)",
     "output_type": "error",
     "traceback": [
      "\u001b[1;36m  Cell \u001b[1;32mIn[32], line 5\u001b[1;36m\u001b[0m\n\u001b[1;33m    numero += 1\u001b[0m\n\u001b[1;37m    ^\u001b[0m\n\u001b[1;31mIndentationError\u001b[0m\u001b[1;31m:\u001b[0m unexpected indent\n"
     ]
    }
   ],
   "source": [
    "numero=0\n",
    "print(\"tabla del 2\")\n",
    "while numero<=10:\n",
    "    print(numero * 2)\n",
    "          numero += 1\n",
    "print('fin')"
   ]
  },
  {
   "cell_type": "markdown",
   "id": "a90947aa",
   "metadata": {},
   "source": [
    "De igual manera que la anterior en este bucle debemos tener en cuenta alguna instrucción que nos permita modificar la condición, para no producir una ejecución indefinida"
   ]
  },
  {
   "cell_type": "code",
   "execution_count": 33,
   "id": "2a963a2d",
   "metadata": {},
   "outputs": [
    {
     "name": "stdout",
     "output_type": "stream",
     "text": [
      "informes del año 2020\n",
      "informes del año 2021\n",
      "informes del año 2022\n",
      "informes del año 2023\n",
      "informes del año 2024\n"
     ]
    }
   ],
   "source": [
    "anio=2020\n",
    "while anio <= 2024:\n",
    "    print(\"informes del año\",str(anio))\n",
    "    anio +=1"
   ]
  },
  {
   "cell_type": "markdown",
   "id": "7eebd1cd",
   "metadata": {},
   "source": [
    "Dentro del bucle podemos utilizar la palabra reservada break, que permite interrumpir la ejecución dependiendo un condicional."
   ]
  },
  {
   "cell_type": "code",
   "execution_count": 34,
   "id": "3941375a",
   "metadata": {},
   "outputs": [
    {
     "name": "stdout",
     "output_type": "stream",
     "text": [
      "indique su nombre:vanesa\n"
     ]
    }
   ],
   "source": [
    "while True:\n",
    "    nombre = input (\"indique su nombre:\")\n",
    "    if nombre:\n",
    "        break\n",
    "    "
   ]
  },
  {
   "cell_type": "markdown",
   "id": "8d49bcbb",
   "metadata": {},
   "source": [
    "Este bucle a diferencia que los anteriores, incluye un condicional anidado que verifica si la variable nombre es verdadera (sólo será verdadera si el usuario tipea un texto en pantalla cuando el nombre le es solicitado). Si es verdadera, el bucle para (break). Sino, seguirá ejecutándose hasta que el usuario ingrese un texto en pantalla"
   ]
  },
  {
   "cell_type": "markdown",
   "id": "caf9e7ad",
   "metadata": {},
   "source": [
    "5.2.2 Bucle For/in"
   ]
  },
  {
   "cell_type": "markdown",
   "id": "7a271ce2",
   "metadata": {},
   "source": [
    "Otro bucle muy utilizado, es el bucle for, que facilita la iteración sobre los ítems de cualquier secuencia, una tupla o lista."
   ]
  },
  {
   "cell_type": "markdown",
   "id": "35764c4c",
   "metadata": {},
   "source": [
    "for expresión in iterable (lista, tupla,string):\n",
    "bloque de código de for/in\n",
    "else (opcional):\n",
    "bloque de código de else"
   ]
  },
  {
   "cell_type": "markdown",
   "id": "1e1a51db",
   "metadata": {},
   "source": [
    "En este bucle podrás observar que imprime los valores de la lista. Se puede leer de la siguiente manera:\n",
    "Por cada ítem que se encuentra en la lista imprimir en pantalla el valor.\n",
    "En este bucle podrás observar que imprime los valores de la lista. Se puede leer de la siguiente manera:\n",
    "Por cada ítem que se\n",
    "encuentra en la lista imprimir\n",
    "en pantalla el valor."
   ]
  },
  {
   "cell_type": "code",
   "execution_count": 36,
   "id": "c2f58dc5",
   "metadata": {},
   "outputs": [
    {
     "name": "stdout",
     "output_type": "stream",
     "text": [
      "juan\n",
      "perez\n",
      "maria\n",
      "ana\n"
     ]
    }
   ],
   "source": [
    "lista=['juan','perez','maria','ana']\n",
    "for item in lista:\n",
    "    print(item)"
   ]
  },
  {
   "cell_type": "markdown",
   "id": "eff73f95",
   "metadata": {},
   "source": [
    "De la misma forma en este bucle imprime los valores de la tupla."
   ]
  },
  {
   "cell_type": "code",
   "execution_count": 37,
   "id": "e070eaca",
   "metadata": {},
   "outputs": [
    {
     "name": "stdout",
     "output_type": "stream",
     "text": [
      "elemento1\n",
      "elemento2\n",
      "elemento3\n",
      "elemento4\n"
     ]
    }
   ],
   "source": [
    "tupla=('elemento1','elemento2','elemento3','elemento4')\n",
    "for item in tupla:\n",
    "    print(item)"
   ]
  },
  {
   "cell_type": "markdown",
   "id": "9efe9117",
   "metadata": {},
   "source": [
    "Nota: La función range() genera automáticamente valores progresivamente."
   ]
  },
  {
   "cell_type": "code",
   "execution_count": 38,
   "id": "944fc1a2",
   "metadata": {},
   "outputs": [
    {
     "name": "stdout",
     "output_type": "stream",
     "text": [
      "año 2020\n",
      "año 2021\n",
      "año 2022\n"
     ]
    }
   ],
   "source": [
    "for anio in range (2020,2023):\n",
    "    print(\"año\",str(anio))"
   ]
  },
  {
   "cell_type": "markdown",
   "id": "622d1d90",
   "metadata": {},
   "source": [
    "#### Crear un algoritmo que permita ingresar un valor por teclado, comprobar si es un número o una cadena."
   ]
  },
  {
   "cell_type": "code",
   "execution_count": 45,
   "id": "e484bb40",
   "metadata": {},
   "outputs": [
    {
     "name": "stdout",
     "output_type": "stream",
     "text": [
      "ingrese un valor:l\n",
      "True\n"
     ]
    }
   ],
   "source": [
    "ValorDato=input(\"ingrese un valor:\")\n",
    "print(isinstance(ValorDato,int) or isinstance(ValorDato,str))"
   ]
  },
  {
   "cell_type": "markdown",
   "id": "44b973c5",
   "metadata": {},
   "source": [
    "Crear un algoritmo que permita crear una lista, una tupla y un diccionario según los datos\n",
    "ingresados por el usuario.\n"
   ]
  },
  {
   "cell_type": "code",
   "execution_count": null,
   "id": "fda04c22",
   "metadata": {},
   "outputs": [],
   "source": [
    "listaNumeros = []\n",
    "numeroUsuario=int(input(\"por favor introduzca un valor:\"))\n",
    "listaNumeros.append(numeroUsuario)\n",
    "decision=input(\"desea ingresar otro numero?:\")\n",
    "\n",
    "while decision==\"s\":\n",
    "    numeroUsuario=int(input(\"por favor introduzca otro numero:\"))\n",
    "    listaNumeros.append(numeroUsuario)\n",
    "    decision=input(\"desea añadir mas numeros?:\")"
   ]
  },
  {
   "cell_type": "markdown",
   "id": "f7a44682",
   "metadata": {},
   "source": [
    "De acuerdo la siguiente lista [2,5,”jujuy”,9,”abc”,123] buscamos un elemento aplicando las\n",
    "estructuras condicionales y la estructura while.\n"
   ]
  },
  {
   "cell_type": "code",
   "execution_count": null,
   "id": "154b1640",
   "metadata": {},
   "outputs": [],
   "source": [
    "lista=[2,5,”jujuy”,9,”abc”,123]\n",
    "indice = 0\n",
    "while indice <=4:\n",
    "    print(lista[indice])\n",
    "    indice = indice + 1"
   ]
  },
  {
   "cell_type": "code",
   "execution_count": null,
   "id": "2d2a437f",
   "metadata": {},
   "outputs": [],
   "source": [
    "Aplique la estructura for para determinar la posición de un elemento de acuerdo a una lista generada por el usuario"
   ]
  },
  {
   "cell_type": "code",
   "execution_count": null,
   "id": "936096be",
   "metadata": {},
   "outputs": [],
   "source": [
    "n=[]\n",
    "x=int(input(\"ingrese un valor:\"))\n",
    "while x!=0:\n",
    "    n.append(x)\n",
    "    x=int(input(\"ingrese un entero:\"))\n",
    "print(n)"
   ]
  },
  {
   "cell_type": "markdown",
   "id": "4f8727b9",
   "metadata": {},
   "source": [
    "[Opcional]. Crear un algoritmo que permita transformar un texto sin formato a un\n",
    "formato legible:\n",
    "Texto sin formato[Original]\n",
    "\n",
    "Lorem ipsum dolor sit amet, consectetur adipiscing elit. Nullam sed suscipit felis. FUSce non augue orci. Praesent at enim quis nisl ornare PuLvinar. DonEC molestiE hendrerit arcu, nEc molestie purUS Facilisis ac. VesTIbulum quis nulla quis niBh iaculis FINIBUS. Sed pulvinar, sapien et faUcibus mAximus, sem mi mattis nulla,a. …………………………………………….\n",
    "Texto formato legible\n",
    "[Resultado]\n",
    "LOREM IPSUM DOLOR SIT AMET, CONSECTETUR ADIPISCING ELIT.NULLAM SED SUSCIPIT FELIS. FUSCENON AUGUE ORCI. PRAESENT AT ENIM QUIS NISL ORNARE PULVINAR. DONEC MOLESTIE HENDRERIT ARCU, NEC MOLESTIE PURUS FACILISIS AC. VESTIBULUM QUIS NULLA QUIS NIBH IACULIS FINIBUS. SED PULVINAR, SAPIEN ET FAUCIBUS MAXIMUS, SEM MI MATTIS NULLA, A."
   ]
  }
 ],
 "metadata": {
  "kernelspec": {
   "display_name": "Python 3 (ipykernel)",
   "language": "python",
   "name": "python3"
  },
  "language_info": {
   "codemirror_mode": {
    "name": "ipython",
    "version": 3
   },
   "file_extension": ".py",
   "mimetype": "text/x-python",
   "name": "python",
   "nbconvert_exporter": "python",
   "pygments_lexer": "ipython3",
   "version": "3.10.9"
  }
 },
 "nbformat": 4,
 "nbformat_minor": 5
}
